{
 "cells": [
  {
   "cell_type": "markdown",
   "id": "294f5baa",
   "metadata": {},
   "source": [
    "# Convolutional Neural Networks\n",
    "\n",
    "Is a specialized type of neural network model designed for working with two-dimensional image data, although they can be used with one-dimensional and three-dimensional data.\n",
    "\n",
    "* the convolutional layer that gives the network its name involves a convolution which is a linear operation that involves the multiplication of a set of weights with the input.\n",
    "\n",
    "* the multiplication is performed between an array of input data and a two-dimensional array of weights, called a filter or a kernel.\n",
    "\n",
    "* The filter is smaller than the input data and the type of multiplication applied between a filter-sized patch of the input and the filter is a element wise dot product which is then summed, always resulting in a single value.\n",
    "\n",
    "* Using a filter smaller than the input is intentional as it allows the same filter (set of weights) to be multiplied by the input array multiple times at different points on the input\n",
    "\n",
    "* If the filter is designed to detect a specific type of feature in the input, then the application of that filter systematically across the entire input image allows the filter an opportunity to discover that feature anywhere in the image. This capability is commonly referred to as translation invariance.\n",
    "\n",
    "> Invariance to local translation can be a very useful property if we care more about whether some feature is present than exactly where it is. For example, when determining whether an image contains a face, we need not know the location of the eyes with pixel-perfect accuracy, we just need to know that there is an eye on the left side of the face and an eye on the right side of the face.\n",
    "\n",
    "* Once a feature map is created, we can pass each value in the feature map through a nonlinearity, such as a ReLU, much like we do for the outputs of a fully connected layer.\n",
    "\n",
    "\n"
   ]
  },
  {
   "cell_type": "code",
   "execution_count": 1,
   "id": "6d834d6c",
   "metadata": {},
   "outputs": [],
   "source": [
    "import tensorflow as tf\n",
    "import numpy as np\n",
    "import matplotlib.pyplot as plt\n",
    "%matplotlib inline"
   ]
  },
  {
   "cell_type": "markdown",
   "id": "c642bbe9",
   "metadata": {},
   "source": [
    "## 1D Convolutional Layer"
   ]
  },
  {
   "cell_type": "code",
   "execution_count": 9,
   "id": "4350a97c",
   "metadata": {},
   "outputs": [],
   "source": [
    "data=np.asarray([0, 0, 0, 1, 1, 0, 0, 0])\n",
    "data=data.reshape(1,8,1)"
   ]
  },
  {
   "cell_type": "markdown",
   "id": "f9eb73ea",
   "metadata": {},
   "source": [
    "The input to Keras must be three dimensional for a 1D convolutional layer.\n",
    "\n",
    "* The first dimension refers to each input sample; in this case, we only have one sample. \n",
    "* The second dimension refers to the length of each sample; in this case, the length is eight. \n",
    "* The third dimension refers to the number of channels in each sample; in this case, we only have a single channel."
   ]
  },
  {
   "cell_type": "code",
   "execution_count": 10,
   "id": "7a58a9df",
   "metadata": {},
   "outputs": [
    {
     "data": {
      "text/plain": [
       "<matplotlib.image.AxesImage at 0x1cf57c5daf0>"
      ]
     },
     "execution_count": 10,
     "metadata": {},
     "output_type": "execute_result"
    },
    {
     "data": {
      "image/png": "[encoded data removed]",
      "text/plain": [
       "<Figure size 432x288 with 1 Axes>"
      ]
     },
     "metadata": {
      "needs_background": "light"
     },
     "output_type": "display_data"
    }
   ],
   "source": [
    "plt.imshow(data.reshape(-1,1))"
   ]
  },
  {
   "cell_type": "code",
   "execution_count": 11,
   "id": "1b2bbf75",
   "metadata": {},
   "outputs": [],
   "source": [
    "# create the model\n",
    "model=tf.keras.Sequential([tf.keras.layers.Conv1D(1,3,activation=\"relu\",input_shape=(8,1))])"
   ]
  },
  {
   "cell_type": "markdown",
   "id": "83dba714",
   "metadata": {},
   "source": [
    "By default, the filters in a convolutional layer are initialized with random weights. But here we will manually specify the weights for the single filter."
   ]
  },
  {
   "cell_type": "code",
   "execution_count": 24,
   "id": "826d5fa0",
   "metadata": {},
   "outputs": [],
   "source": [
    "detector=np.asarray([0,1,0])\n",
    "weights=[np.asarray(detector.reshape(-1,1,1)),np.asarray([0.0])]\n",
    "model.set_weights(weights)"
   ]
  },
  {
   "cell_type": "code",
   "execution_count": 25,
   "id": "7646e0e3",
   "metadata": {},
   "outputs": [
    {
     "data": {
      "text/plain": [
       "[array([[[0.]],\n",
       " \n",
       "        [[1.]],\n",
       " \n",
       "        [[0.]]], dtype=float32),\n",
       " array([0.], dtype=float32)]"
      ]
     },
     "execution_count": 25,
     "metadata": {},
     "output_type": "execute_result"
    }
   ],
   "source": [
    "model.get_weights()"
   ]
  },
  {
   "cell_type": "code",
   "execution_count": 28,
   "id": "bf460a97",
   "metadata": {},
   "outputs": [
    {
     "name": "stdout",
     "output_type": "stream",
     "text": [
      "[[[0.]\n",
      "  [0.]\n",
      "  [1.]\n",
      "  [1.]\n",
      "  [0.]\n",
      "  [0.]]]\n"
     ]
    }
   ],
   "source": [
    "y_pred=model.predict(data)\n",
    "print(y_pred)"
   ]
  },
  {
   "cell_type": "code",
   "execution_count": 27,
   "id": "bd832df9",
   "metadata": {},
   "outputs": [
    {
     "data": {
      "text/plain": [
       "<matplotlib.image.AxesImage at 0x1cf5896b2e0>"
      ]
     },
     "execution_count": 27,
     "metadata": {},
     "output_type": "execute_result"
    },
    {
     "data": {
      "image/png": "[encoded data removed]",
      "text/plain": [
       "<Figure size 432x288 with 1 Axes>"
      ]
     },
     "metadata": {
      "needs_background": "light"
     },
     "output_type": "display_data"
    }
   ],
   "source": [
    "plt.imshow(y_pred)"
   ]
  },
  {
   "cell_type": "markdown",
   "id": "c1934f95",
   "metadata": {},
   "source": [
    "## 2D Convolutional Layer"
   ]
  },
  {
   "cell_type": "code",
   "execution_count": 34,
   "id": "7b2d22bf",
   "metadata": {},
   "outputs": [
    {
     "name": "stdout",
     "output_type": "stream",
     "text": [
      "Model: \"sequential_2\"\n",
      "_________________________________________________________________\n",
      "Layer (type)                 Output Shape              Param #   \n",
      "=================================================================\n",
      "conv2d_1 (Conv2D)            (None, 6, 6, 1)           10        \n",
      "=================================================================\n",
      "Total params: 10\n",
      "Trainable params: 10\n",
      "Non-trainable params: 0\n",
      "_________________________________________________________________\n",
      "None\n",
      "[array([[[[0.]],\n",
      "\n",
      "        [[1.]],\n",
      "\n",
      "        [[0.]]],\n",
      "\n",
      "\n",
      "       [[[0.]],\n",
      "\n",
      "        [[1.]],\n",
      "\n",
      "        [[0.]]],\n",
      "\n",
      "\n",
      "       [[[0.]],\n",
      "\n",
      "        [[1.]],\n",
      "\n",
      "        [[0.]]]], dtype=float32), array([0.], dtype=float32)]\n",
      "[0.0, 0.0, 3.0, 3.0, 0.0, 0.0]\n",
      "[0.0, 0.0, 3.0, 3.0, 0.0, 0.0]\n",
      "[0.0, 0.0, 3.0, 3.0, 0.0, 0.0]\n",
      "[0.0, 0.0, 3.0, 3.0, 0.0, 0.0]\n",
      "[0.0, 0.0, 3.0, 3.0, 0.0, 0.0]\n",
      "[0.0, 0.0, 3.0, 3.0, 0.0, 0.0]\n"
     ]
    }
   ],
   "source": [
    "# define input data\n",
    "data = [[0, 0, 0, 1, 1, 0, 0, 0],\n",
    "        [0, 0, 0, 1, 1, 0, 0, 0],\n",
    "        [0, 0, 0, 1, 1, 0, 0, 0],\n",
    "        [0, 0, 0, 1, 1, 0, 0, 0],\n",
    "        [0, 0, 0, 1, 1, 0, 0, 0],\n",
    "        [0, 0, 0, 1, 1, 0, 0, 0],\n",
    "        [0, 0, 0, 1, 1, 0, 0, 0],\n",
    "        [0, 0, 0, 1, 1, 0, 0, 0]]\n",
    "data = np.asarray(data)\n",
    "data = data.reshape(1, 8, 8, 1)\n",
    "# create model\n",
    "model1=tf.keras.Sequential([tf.keras.layers.Conv2D(1, (3,3), activation='relu', input_shape=(8, 8, 1))])\n",
    "print(model1.summary())\n",
    "\n",
    "# define a vertical line detector\n",
    "detector = [[[[0]],[[1]],[[0]]],\n",
    "            [[[0]],[[1]],[[0]]],\n",
    "            [[[0]],[[1]],[[0]]]]\n",
    "weights = [np.asarray(detector), np.asarray([0.0])]\n",
    "# store the weights in the model\n",
    "model1.set_weights(weights)\n",
    "# confirm they were stored\n",
    "print(model1.get_weights())\n",
    "# apply filter to input data\n",
    "y_pred1 = model1.predict(data)\n",
    "for r in range(y_pred1.shape[1]):\n",
    "    # print each column in the row\n",
    "    print([y_pred1[0,r,c,0] for c in range(y_pred1.shape[2])])"
   ]
  },
  {
   "cell_type": "code",
   "execution_count": 35,
   "id": "64c1c7fe",
   "metadata": {},
   "outputs": [
    {
     "data": {
      "text/plain": [
       "<matplotlib.image.AxesImage at 0x1cf591727c0>"
      ]
     },
     "execution_count": 35,
     "metadata": {},
     "output_type": "execute_result"
    },
    {
     "data": {
      "image/png": "[encoded data removed]",
      "text/plain": [
       "<Figure size 432x288 with 1 Axes>"
      ]
     },
     "metadata": {
      "needs_background": "light"
     },
     "output_type": "display_data"
    }
   ],
   "source": [
    "plt.imshow(tf.squeeze(y_pred1))"
   ]
  },
  {
   "cell_type": "code",
   "execution_count": 37,
   "id": "0f64cdec",
   "metadata": {},
   "outputs": [
    {
     "data": {
      "text/plain": [
       "((1, 8, 8, 1), (1, 6, 6, 1))"
      ]
     },
     "execution_count": 37,
     "metadata": {},
     "output_type": "execute_result"
    }
   ],
   "source": [
    "data.shape,y_pred1.shape"
   ]
  },
  {
   "cell_type": "markdown",
   "id": "43ba370c",
   "metadata": {},
   "source": [
    "# Convolution Neural network\n",
    "The agenda for this field is to enable machines to view the world as humans do, perceive it in a similar manner and even use the knowledge for a multitude of tasks such as Image & Video recognition, Image Analysis & Classification, Media Recreation, Recommendation Systems, Natural Language Processing, etc. \n",
    "\n",
    "* The objective of the Convolution Operation is to extract the high-level features such as edges, from the input image. Convolutional layers in a convolutional neural network systematically apply learned filters to input images in order to create feature maps that summarize the presence of those features in the input\n",
    "\n",
    "* A limitation of the feature map output of convolutional layers is that they record the precise position of features in the input. This means that small movements in the position of the feature in the input image will result in a different feature map. This can happen with re-cropping, rotation, shifting, and other minor changes to the input image.\n",
    "\n",
    "* A common approach to addressing this problem from signal processing is called down sampling. This is where a lower resolution version of an input signal is created that still contains the large or important structural elements, without the fine detail that may not be as useful to the task.\n",
    "\n",
    "* Down sampling can be achieved with convolutional layers by changing the stride of the convolution across the image. A more robust and common approach is to use a pooling layer.\n",
    "\n",
    "* Pooling involves selecting a pooling operation, much like a filter to be applied to feature maps. The size of the pooling operation or filter is smaller than the size of the feature map; specifically, it is almost always 2×2 pixels applied with a stride of 2 pixels.\n",
    "\n",
    "* This means that the pooling layer will always reduce the size of each feature map by a factor of 2, e.g. each dimension is halved, reducing the number of pixels or values in each feature map to one quarter the size\n",
    "\n",
    ">The pooling operation is specified, rather than learned. Two common functions used in the pooling operation are:\n",
    "- ` Average Pooling: Calculate the average value for each patch on the feature map.`\n",
    "- ` Maximum Pooling (or Max Pooling): Calculate the maximum value for each patch of the feature map.`\n",
    "\n",
    "## Average Pooling Layer\n",
    "\n",
    "On two-dimensional feature maps, pooling is typically applied in 2×2 patches of the feature map with a stride of (2,2).\n"
   ]
  },
  {
   "cell_type": "code",
   "execution_count": 38,
   "id": "e74a976b",
   "metadata": {},
   "outputs": [
    {
     "name": "stdout",
     "output_type": "stream",
     "text": [
      "Model: \"sequential_3\"\n",
      "_________________________________________________________________\n",
      "Layer (type)                 Output Shape              Param #   \n",
      "=================================================================\n",
      "conv2d_2 (Conv2D)            (None, 6, 6, 1)           10        \n",
      "_________________________________________________________________\n",
      "average_pooling2d (AveragePo (None, 3, 3, 1)           0         \n",
      "=================================================================\n",
      "Total params: 10\n",
      "Trainable params: 10\n",
      "Non-trainable params: 0\n",
      "_________________________________________________________________\n"
     ]
    }
   ],
   "source": [
    "# create the model\n",
    "# we can add padding also\n",
    "model2= tf.keras.Sequential([tf.keras.layers.Conv2D(1,(3,3),activation=\"relu\",input_shape=(8,8,1)),\n",
    "                             tf.keras.layers.AveragePooling2D()])\n",
    "\n",
    "# summarize the model\n",
    "model2.summary()"
   ]
  },
  {
   "cell_type": "code",
   "execution_count": 39,
   "id": "861ec119",
   "metadata": {},
   "outputs": [
    {
     "name": "stdout",
     "output_type": "stream",
     "text": [
      "[0.0, 3.0, 0.0]\n",
      "[0.0, 3.0, 0.0]\n",
      "[0.0, 3.0, 0.0]\n"
     ]
    }
   ],
   "source": [
    "# define a vertical line detector\n",
    "detector = [[[[0]],[[1]],[[0]]],\n",
    "            [[[0]],[[1]],[[0]]],\n",
    "            [[[0]],[[1]],[[0]]]]\n",
    "weights = [np.asarray(detector), np.asarray([0.0])]\n",
    "# store the weights in the model\n",
    "model2.set_weights(weights)\n",
    "# apply filter to input data\n",
    "y_pred2 = model2.predict(data)\n",
    "# enumerate rows\n",
    "for r in range(y_pred2.shape[1]):\n",
    "    # print each column in the row\n",
    "    print([y_pred2[0,r,c,0] for c in range(y_pred2.shape[2])])"
   ]
  },
  {
   "cell_type": "code",
   "execution_count": 40,
   "id": "180ea8f9",
   "metadata": {},
   "outputs": [
    {
     "data": {
      "text/plain": [
       "((1, 8, 8, 1), (1, 3, 3, 1))"
      ]
     },
     "execution_count": 40,
     "metadata": {},
     "output_type": "execute_result"
    }
   ],
   "source": [
    "data.shape, y_pred2.shape"
   ]
  },
  {
   "cell_type": "code",
   "execution_count": 41,
   "id": "db91261d",
   "metadata": {},
   "outputs": [
    {
     "data": {
      "text/plain": [
       "<matplotlib.image.AxesImage at 0x1cf591d6eb0>"
      ]
     },
     "execution_count": 41,
     "metadata": {},
     "output_type": "execute_result"
    },
    {
     "data": {
      "image/png": "[encoded data removed]",
      "text/plain": [
       "<Figure size 432x288 with 1 Axes>"
      ]
     },
     "metadata": {
      "needs_background": "light"
     },
     "output_type": "display_data"
    }
   ],
   "source": [
    "plt.imshow(tf.squeeze(y_pred2))"
   ]
  },
  {
   "cell_type": "markdown",
   "id": "e6685b1a",
   "metadata": {},
   "source": [
    "y_pred2 generated from model 2 with average pooling has reduced size as compared to y_pred generated from model 1. The same thing is evident from model summary also\n",
    "\n",
    "## Max Pooling Layer\n",
    "\n",
    "Maximum pooling, or max pooling, is a pooling operation that calculates the maximum, or largest, value in each patch of each feature map."
   ]
  },
  {
   "cell_type": "code",
   "execution_count": 42,
   "id": "f336fb5e",
   "metadata": {},
   "outputs": [
    {
     "name": "stdout",
     "output_type": "stream",
     "text": [
      "Model: \"sequential_4\"\n",
      "_________________________________________________________________\n",
      "Layer (type)                 Output Shape              Param #   \n",
      "=================================================================\n",
      "conv2d_3 (Conv2D)            (None, 6, 6, 1)           10        \n",
      "_________________________________________________________________\n",
      "max_pooling2d (MaxPooling2D) (None, 3, 3, 1)           0         \n",
      "=================================================================\n",
      "Total params: 10\n",
      "Trainable params: 10\n",
      "Non-trainable params: 0\n",
      "_________________________________________________________________\n"
     ]
    }
   ],
   "source": [
    "# create the model\n",
    "# we can add padding also\n",
    "model3= tf.keras.Sequential([tf.keras.layers.Conv2D(1,(3,3),activation=\"relu\",input_shape=(8,8,1)),\n",
    "                             tf.keras.layers.MaxPooling2D()])\n",
    "\n",
    "# summarize the model\n",
    "model3.summary()"
   ]
  },
  {
   "cell_type": "code",
   "execution_count": 46,
   "id": "06026a02",
   "metadata": {},
   "outputs": [
    {
     "name": "stdout",
     "output_type": "stream",
     "text": [
      "[0.0, 3.0, 0.0]\n",
      "[0.0, 3.0, 0.0]\n",
      "[0.0, 3.0, 0.0]\n"
     ]
    }
   ],
   "source": [
    "# define a vertical line detector\n",
    "detector = [[[[0]],[[1]],[[0]]],\n",
    "            [[[0]],[[1]],[[0]]],\n",
    "            [[[0]],[[1]],[[0]]]]\n",
    "weights = [np.asarray(detector), np.asarray([0.0])]\n",
    "# store the weights in the model\n",
    "model3.set_weights(weights)\n",
    "# apply filter to input data\n",
    "y_pred3 = model3.predict(data)\n",
    "# enumerate rows\n",
    "for r in range(y_pred3.shape[1]):\n",
    "    # print each column in the row\n",
    "    print([y_pred3[0,r,c,0] for c in range(y_pred3.shape[2])])"
   ]
  },
  {
   "cell_type": "code",
   "execution_count": 44,
   "id": "c2bb6b26",
   "metadata": {},
   "outputs": [
    {
     "data": {
      "text/plain": [
       "<matplotlib.image.AxesImage at 0x1cf5a2ded30>"
      ]
     },
     "execution_count": 44,
     "metadata": {},
     "output_type": "execute_result"
    },
    {
     "data": {
      "image/png": "[encoded data removed]",
      "text/plain": [
       "<Figure size 432x288 with 1 Axes>"
      ]
     },
     "metadata": {
      "needs_background": "light"
     },
     "output_type": "display_data"
    }
   ],
   "source": [
    "plt.imshow(tf.squeeze(y_pred3))"
   ]
  },
  {
   "cell_type": "code",
   "execution_count": 45,
   "id": "db979ea8",
   "metadata": {},
   "outputs": [
    {
     "data": {
      "text/plain": [
       "((1, 8, 8, 1), (1, 3, 3, 1))"
      ]
     },
     "execution_count": 45,
     "metadata": {},
     "output_type": "execute_result"
    }
   ],
   "source": [
    "data.shape,y_pred3.shape"
   ]
  },
  {
   "cell_type": "code",
   "execution_count": null,
   "id": "e208274a",
   "metadata": {},
   "outputs": [],
   "source": []
  }
 ],
 "metadata": {
  "kernelspec": {
   "display_name": "Python 3",
   "language": "python",
   "name": "python3"
  },
  "language_info": {
   "codemirror_mode": {
    "name": "ipython",
    "version": 3
   },
   "file_extension": ".py",
   "mimetype": "text/x-python",
   "name": "python",
   "nbconvert_exporter": "python",
   "pygments_lexer": "ipython3",
   "version": "3.8.3"
  }
 },
 "nbformat": 4,
 "nbformat_minor": 5
}
